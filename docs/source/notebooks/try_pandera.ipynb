{
 "cells": [
  {
   "cell_type": "markdown",
   "id": "87032c94",
   "metadata": {},
   "source": [
    "# What's Pandera?\n",
    "\n",
    "Pandera is an open source framework for precision data testing, built for\n",
    "data scientists and ML engineers.\n",
    "\n",
    "In this notebook, you'll learn how to:\n",
    "\n",
    "> 1. Define Pandera schemas for your dataframe-like objects 📦\n",
    "> 2. Integrate them seamlessly into your data pipelines 🔀\n",
    "> 3. Ensure your data and data transformation functions are correct ✅\n",
    "\n",
    "▶️ Run the code cells below to get a sense of how pandera works and how its\n",
    "error reporting system can provide direct insight into what specific data\n",
    "values caused the error."
   ]
  },
  {
   "cell_type": "markdown",
   "id": "5c19ac9f",
   "metadata": {},
   "source": [
    "First, install `pandera` in your notebook session:"
   ]
  },
  {
   "cell_type": "code",
   "execution_count": null,
   "id": "ac4294bb",
   "metadata": {},
   "outputs": [],
   "source": [
    "import piplite\n",
    "\n",
    "await piplite.install(\"pandera\")"
   ]
  },
  {
   "cell_type": "markdown",
   "id": "df888aa0",
   "metadata": {},
   "source": [
    "## What are Schemas?\n",
    "\n",
    "With `pandera`, we can create schemas, which specify types for dataframe-like\n",
    "objects. We can then use these schemas to assert properties about data at runtime\n",
    "and try parsing it into a desired state.\n",
    "\n",
    "Suppose you're working with a transactions dataset of grocery `item`s and their\n",
    "associated `price`s. We can state our assumptions about the data upfront by\n",
    "defining a `Schema`."
   ]
  },
  {
   "cell_type": "code",
   "execution_count": null,
   "id": "c9a4eef5",
   "metadata": {},
   "outputs": [],
   "source": [
    "import pandas as pd\n",
    "import pandera as pa\n",
    "from pandera.typing import DataFrame, Series\n",
    "\n",
    "\n",
    "class Schema(pa.SchemaModel):\n",
    "    item: Series[str] = pa.Field(isin=[\"apple\", \"orange\"], coerce=True)\n",
    "    price: Series[float] = pa.Field(gt=0, coerce=True)"
   ]
  },
  {
   "cell_type": "markdown",
   "id": "01cb7eb0",
   "metadata": {},
   "source": [
    "You can see that the `Schema` class inherits from [`pandera.SchemaModel`](https://pandera.readthedocs.io/en/stable/reference/generated/pandera.model.SchemaModel.html#pandera.model.SchemaModel),\n",
    "and defines two fields: `item` and `price`.\n",
    "\n",
    "`pandera` gives you a flexible and concise way to specify the datatypes associated with\n",
    "each column, but also other properties about it like set equivalence, with `isin=...` and value ranges, with `gt=...`.\n",
    "\n",
    "Setting `coerce=True` will cause pandera to parse the columns into the expected data types, giving you the ability\n",
    "to ensure that data flowing through your pipeline is of the expected type."
   ]
  },
  {
   "cell_type": "markdown",
   "id": "e9efd661",
   "metadata": {},
   "source": [
    "## Runtime DataFrame Value Checks\n",
    "\n",
    "We can now use the `Schema` class to validate data passing through a function."
   ]
  },
  {
   "cell_type": "code",
   "execution_count": null,
   "id": "aa81fa0f",
   "metadata": {},
   "outputs": [],
   "source": [
    "@pa.check_types(lazy=True)\n",
    "def transform_data(data: DataFrame[Schema]):\n",
    "    ..."
   ]
  },
  {
   "cell_type": "markdown",
   "id": "f5450ba9",
   "metadata": {},
   "source": [
    "As you can see below, using the `@pa.check_types` decorator and specifying the `data: DataFrame[Schema]` annotation will ensure that dataframe inputs are validated\n",
    "at runtime before being passed into the `transform_data` function body."
   ]
  },
  {
   "cell_type": "markdown",
   "id": "41c69e6c",
   "metadata": {},
   "source": [
    "By providing the `lazy=True` option in the `check_types` decorator, we're\n",
    "telling pandera to validate all field properties before raising a `SchemaErrors`\n",
    "exception."
   ]
  },
  {
   "cell_type": "markdown",
   "id": "a8e06b60",
   "metadata": {},
   "source": [
    "With valid data, calling `transform_data` shouldn't be a problem."
   ]
  },
  {
   "cell_type": "code",
   "execution_count": null,
   "id": "ffd04ef5",
   "metadata": {},
   "outputs": [],
   "source": [
    "valid_data = pd.DataFrame.from_records([\n",
    "    {\"item\": \"apple\", \"price\": 0.5},\n",
    "    {\"item\": \"orange\", \"price\": 0.75}\n",
    "])\n",
    "transform_data(valid_data)"
   ]
  },
  {
   "cell_type": "markdown",
   "id": "accb1038",
   "metadata": {},
   "source": [
    "With invalid data, however, pandera will raise a `SchemaErrors` exception. We can\n",
    "catch the exception and identify all the failure cases"
   ]
  },
  {
   "cell_type": "code",
   "execution_count": null,
   "id": "1286e5e4",
   "metadata": {},
   "outputs": [],
   "source": [
    "invalid_data = pd.DataFrame.from_records([\n",
    "    {\"item\": \"applee\", \"price\": 0.5},\n",
    "    {\"item\": \"orange\", \"price\": -1000}\n",
    "])\n",
    "\n",
    "\n",
    "try:\n",
    "    transform_data(invalid_data)\n",
    "except pa.errors.SchemaErrors as exc:\n",
    "    display(exc.failure_cases)"
   ]
  },
  {
   "cell_type": "markdown",
   "id": "a7595be4",
   "metadata": {},
   "source": [
    "The `exc.failure_cases` attribute points to a dataframe that contains metadata\n",
    "about the failure cases that occurred when validating the data.\n",
    "\n",
    "We can see that row index `0` had a failure case in the `item` column, which\n",
    "failed the `isin({\"apple\", \"orange\"})` check. The failure case value in question\n",
    "`applee`.\n",
    "\n",
    "We can also see the row index `1` had a failure case of `-1000.0` in the `price`\n",
    "column, since negative prices don't really make sense in this context."
   ]
  },
  {
   "cell_type": "markdown",
   "id": "9e6e6099",
   "metadata": {},
   "source": [
    "## In-line Validation\n",
    "\n",
    "You can also use `Schema` classes to validate data in-line by calling the `validate` method:"
   ]
  },
  {
   "cell_type": "code",
   "execution_count": null,
   "id": "e8d6ee48",
   "metadata": {},
   "outputs": [],
   "source": [
    "Schema.validate(valid_data)"
   ]
  },
  {
   "cell_type": "markdown",
   "id": "f35012b2",
   "metadata": {},
   "source": [
    "This gives you ultimate flexibility on where you want to validate data in your code."
   ]
  },
  {
   "cell_type": "markdown",
   "id": "afc60bb7",
   "metadata": {},
   "source": [
    "## Schemas as Data Quality Checkpoints\n",
    "\n",
    "With `pandera`, you can use inheritance to indicate changes in\n",
    "the contents of a dataframe that some function is has to implement."
   ]
  },
  {
   "cell_type": "code",
   "execution_count": null,
   "id": "7c2a5bab",
   "metadata": {},
   "outputs": [],
   "source": [
    "class Schema(pa.SchemaModel):\n",
    "    item: Series[str] = pa.Field(isin=[\"apple\", \"orange\"], coerce=True)\n",
    "    price: Series[float] = pa.Field(gt=0, coerce=True)\n",
    "\n",
    "class TransformedSchema(Schema):\n",
    "    expiry: Series[pd.Timestamp] = pa.Field(coerce=True)"
   ]
  },
  {
   "cell_type": "markdown",
   "id": "b0a80046",
   "metadata": {},
   "source": [
    "`TransformedSchema` will inherit the class attributes defined in\n",
    "`Schema`, with an additional `expiry` datetime field.\n",
    "\n",
    "Now we can implement a function that performs the transformation needed to\n",
    "connect these two schemas."
   ]
  },
  {
   "cell_type": "code",
   "execution_count": null,
   "id": "f57e595e",
   "metadata": {},
   "outputs": [],
   "source": [
    "from datetime import datetime\n",
    "from typing import List\n",
    "\n",
    "\n",
    "@pa.check_types(lazy=True)\n",
    "def transform_data(\n",
    "    data: DataFrame[Schema],\n",
    "    expiry: List[datetime],\n",
    ") -> DataFrame[TransformedSchema]:\n",
    "    return data.assign(expiry=expiry)\n",
    "\n",
    "\n",
    "transform_data(valid_data, [datetime.now()] * valid_data.shape[0])"
   ]
  },
  {
   "cell_type": "markdown",
   "id": "a22d9462",
   "metadata": {},
   "source": [
    "Now every time we call the `transform_data` function, not only is the\n",
    "`data` input argument validated, but the output dataframe is validated\n",
    "against `TransformedSchema`.\n",
    "\n",
    "This means that you can catch bugs in your data transformation code\n",
    "more easily:"
   ]
  },
  {
   "cell_type": "code",
   "execution_count": null,
   "id": "a9fa983e",
   "metadata": {},
   "outputs": [],
   "source": [
    "@pa.check_types(lazy=True)\n",
    "def transform_data(\n",
    "    data: DataFrame[Schema],\n",
    "    expiry: List[datetime],\n",
    ") -> DataFrame[TransformedSchema]:\n",
    "    return data.assign(expiryy=expiry)  # typo bug: 🐛\n",
    "\n",
    "\n",
    "try:\n",
    "    transform_data(valid_data, [datetime.now()] * valid_data.shape[0])\n",
    "except pa.errors.SchemaErrors as exc:\n",
    "    display(exc.failure_cases)"
   ]
  },
  {
   "cell_type": "markdown",
   "id": "7fcd0187",
   "metadata": {},
   "source": [
    "The `failure_cases` dataframe is telling us the core `column_in_dataframe` check\n",
    "is failing because the `expiry` column is not present in the output dataframe."
   ]
  },
  {
   "cell_type": "markdown",
   "id": "73b569b1",
   "metadata": {},
   "source": [
    "## Bonus: The Object-based API\n",
    "\n",
    "`pandera` also provides an object-based API for defining dataframe schemas.\n",
    "\n",
    "While the [`SchemaModel`](https://pandera.readthedocs.io/en/stable/schema_models.html) class-based API is closer in spirit to `dataclasses` and `pydantic`, which use Python classes to express complex data types , the\n",
    "object-based [`DataFrameSchema`](https://pandera.readthedocs.io/en/stable/dataframe_schemas.html) API enables you to transform your schema definition on the fly."
   ]
  },
  {
   "cell_type": "code",
   "execution_count": null,
   "id": "7597c976",
   "metadata": {},
   "outputs": [],
   "source": [
    "# class-based API\n",
    "class Schema(pa.SchemaModel):\n",
    "    item: Series[str] = pa.Field(isin=[\"apple\", \"orange\"], coerce=True)\n",
    "    price: Series[float] = pa.Field(gt=0, coerce=True)\n",
    "\n",
    "# the equivalent object-based API syntax\n",
    "schema = pa.DataFrameSchema({\n",
    "    \"item\": pa.Column(str, pa.Check.isin([\"apple\", \"orange\"]), coerce=True),\n",
    "    \"price\": pa.Column(float, pa.Check.gt(0), coerce=True),\n",
    "})"
   ]
  },
  {
   "cell_type": "markdown",
   "id": "23b06944",
   "metadata": {},
   "source": [
    "You can add, remove, and update columns as you want:"
   ]
  },
  {
   "cell_type": "code",
   "execution_count": null,
   "id": "17ef5399",
   "metadata": {},
   "outputs": [],
   "source": [
    "transformed_schema = schema.add_columns({\"expiry\": pa.Column(pd.Timestamp)})\n",
    "schema.remove_columns([\"item\"])  # remove the \"item\" column\n",
    "schema.update_column(\"price\", dtype=int)  # update the datatype of the \"price\" column to integer"
   ]
  },
  {
   "cell_type": "markdown",
   "id": "ae1c08bb",
   "metadata": {},
   "source": [
    "You can use `DataFrameSchema`s to validate data just like `SchemaModel` subclasses:"
   ]
  },
  {
   "cell_type": "code",
   "execution_count": null,
   "id": "80104780",
   "metadata": {},
   "outputs": [],
   "source": [
    "schema.validate(valid_data)"
   ]
  },
  {
   "cell_type": "markdown",
   "id": "e913b9f9",
   "metadata": {},
   "source": [
    "And, similar to the `check_types` decorator, you can use the` check_io` decorator\n",
    "to validate inputs and outputs of your functions."
   ]
  },
  {
   "cell_type": "code",
   "execution_count": null,
   "id": "a5af85e2",
   "metadata": {},
   "outputs": [],
   "source": [
    "@pa.check_io(data=schema, out=transformed_schema)\n",
    "def fn(data, expiry):\n",
    "    return data.assign(expiry=expiry)\n",
    "\n",
    "\n",
    "fn(valid_data, [datetime.now()] * valid_data.shape[0])"
   ]
  },
  {
   "cell_type": "markdown",
   "id": "bcecf627",
   "metadata": {},
   "source": [
    "### When to Use `DataFrameSchema` vs. `SchemaModel`\n",
    "\n",
    "Practically speaking the two ways of writing pandera schemas are completely equivalent, and using one\n",
    "over the other boils down to a few factors:\n",
    "\n",
    "1. Preference: some developers are more comfortable with one syntax over the other.\n",
    "2. The class-based API unlocks static type-checking of data via [mypy](https://pandera.readthedocs.io/en/stable/mypy_integration.html)\n",
    "   and integrates well with Python's type hinting system.\n",
    "3. The object-based API is good if you want to dynamically update your schema definition at runtime.\n",
    "\n",
    "At the end of the day, you can use them interchangeably in your applications."
   ]
  },
  {
   "cell_type": "markdown",
   "id": "9fe0f6aa",
   "metadata": {},
   "source": [
    "### What's Next?\n",
    "\n",
    "This notebook gave you a brief intro to Pandera, but this\n",
    "framework has a lot more to offer to help you test your data:\n",
    "\n",
    "- [Create in-line custom checks](https://pandera.readthedocs.io/en/stable/checks.html)\n",
    "- [Register custom checks](https://pandera.readthedocs.io/en/stable/extensions.html)\n",
    "- [Define statistical hypothesis tests](https://pandera.readthedocs.io/en/stable/hypothesis.html)\n",
    "- [Bootstrap schemas with data profiling](https://pandera.readthedocs.io/en/stable/schema_inference.html)\n",
    "- [Synthesize fake data for unit testing](https://pandera.readthedocs.io/en/stable/data_synthesis_strategies.html)\n",
    "- [Scale Validation with Distributed DataFrames](https://pandera.readthedocs.io/en/stable/supported_libraries.html#)\n",
    "- [Integrate with the Python Ecosystem](https://pandera.readthedocs.io/en/stable/integrations.html)"
   ]
  }
 ],
 "metadata": {
  "kernelspec": {
   "display_name": "Python 3.9.12 ('pandera')",
   "language": "python",
   "name": "python3"
  },
  "language_info": {
   "codemirror_mode": {
    "name": "ipython",
    "version": 3
   },
   "file_extension": ".py",
   "mimetype": "text/x-python",
   "name": "python",
   "nbconvert_exporter": "python",
   "pygments_lexer": "ipython3",
   "version": "3.9.12"
  },
  "vscode": {
   "interpreter": {
    "hash": "6bbffad058ea4c1a3a14a7a497e5fe0053e4f65d400b1604fe633506406cf190"
   }
  }
 },
 "nbformat": 4,
 "nbformat_minor": 5
}
